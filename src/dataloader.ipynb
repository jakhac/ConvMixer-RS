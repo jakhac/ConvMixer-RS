{
 "cells": [
  {
   "cell_type": "code",
   "execution_count": 106,
   "metadata": {},
   "outputs": [],
   "source": [
    "import lmdb\n",
    "from bigearthnet_patch_interface.s2_interface import BigEarthNet_S2_Patch\n",
    "from pathlib import Path\n",
    "import importlib\n",
    "\n",
    "import numpy as np\n",
    "import pandas as pd\n",
    "import matplotlib.pyplot as plt\n",
    "\n",
    "from torch import Tensor, cat, stack\n",
    "\n",
    "from torch.utils.data import DataLoader"
   ]
  },
  {
   "cell_type": "markdown",
   "metadata": {},
   "source": [
    "\n",
    "## Data Loading"
   ]
  },
  {
   "cell_type": "code",
   "execution_count": 2,
   "metadata": {},
   "outputs": [],
   "source": [
    "import os\n",
    "from os.path import join, dirname\n",
    "from dotenv import load_dotenv\n",
    "\n",
    "# Get paths\n",
    "load_dotenv('./.env')\n",
    "\n",
    "BEN_LMDB_PATH = os.environ.get(\"BEN_LMDB_PATH\")\n",
    "BEN_PATH = os.environ.get(\"BEN_PATH\")\n",
    "\n",
    "TRAIN_CSV_FILE = os.environ.get(\"TRAIN_CSV\")\n",
    "TEST_CSV_FILE = os.environ.get(\"TEST_CSV\")\n",
    "VAL_CSV_FILE = os.environ.get(\"VAL_CSV\")\n",
    "\n",
    "assert Path(BEN_PATH).exists()\n",
    "assert Path(BEN_LMDB_PATH).exists()\n",
    "assert os.path.exists(TRAIN_CSV_FILE)"
   ]
  },
  {
   "cell_type": "code",
   "execution_count": 3,
   "metadata": {},
   "outputs": [],
   "source": [
    "env = lmdb.open(BEN_LMDB_PATH, readonly=True, readahead=False, lock=False)\n",
    "txn = env.begin()\n",
    "cur = txn.cursor()"
   ]
  },
  {
   "cell_type": "code",
   "execution_count": 147,
   "metadata": {},
   "outputs": [],
   "source": [
    "import dataset_class as ds_class\n",
    "importlib.reload(ds_class)\n",
    "\n",
    "val_ds = ds_class.BenDataset(VAL_CSV_FILE, BEN_LMDB_PATH)\n",
    "data_loader = DataLoader(val_ds, batch_size=8, shuffle=True)\n",
    "\n",
    "# y = val_ds.__getitem__(0)\n",
    "# print(y[0].shape, y[1].shape)\n",
    "# print(y[1], val_ds.get_mlb().inverse_transform(np.asarray([y[1]])))"
   ]
  },
  {
   "cell_type": "code",
   "execution_count": 150,
   "metadata": {},
   "outputs": [
    {
     "name": "stdout",
     "output_type": "stream",
     "text": [
      "3481 436\n",
      "torch.Size([8, 10, 120, 120])\n",
      "torch.Size([8, 19])\n"
     ]
    }
   ],
   "source": [
    "print(len(val_ds), len(iter(data_loader)))\n",
    "\n",
    "for X, y in [next(iter(data_loader))]:\n",
    "    print(X.shape)\n",
    "    print(y.shape)\n",
    "    \n",
    "    break"
   ]
  },
  {
   "cell_type": "markdown",
   "metadata": {},
   "source": [
    "## Data Analysis"
   ]
  },
  {
   "cell_type": "code",
   "execution_count": 146,
   "metadata": {},
   "outputs": [],
   "source": [
    "# Plot class distribution"
   ]
  },
  {
   "cell_type": "code",
   "execution_count": 145,
   "metadata": {},
   "outputs": [],
   "source": [
    "# Visualize some samples and different bands"
   ]
  }
 ],
 "metadata": {
  "interpreter": {
   "hash": "b54b6ea0bc7318cd0ebe8744a480d71cf9140ba7cd7ca9d510192f235626c224"
  },
  "kernelspec": {
   "display_name": "Python 3.8.10 ('py38')",
   "language": "python",
   "name": "python3"
  },
  "language_info": {
   "codemirror_mode": {
    "name": "ipython",
    "version": 3
   },
   "file_extension": ".py",
   "mimetype": "text/x-python",
   "name": "python",
   "nbconvert_exporter": "python",
   "pygments_lexer": "ipython3",
   "version": "3.8.10"
  },
  "orig_nbformat": 4
 },
 "nbformat": 4,
 "nbformat_minor": 2
}
