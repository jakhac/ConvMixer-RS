{
 "cells": [
  {
   "cell_type": "code",
   "execution_count": null,
   "metadata": {},
   "outputs": [],
   "source": [
    "import lmdb\n",
    "from bigearthnet_patch_interface.s2_interface import BigEarthNet_S2_Patch\n",
    "from pathlib import Path\n",
    "import importlib\n",
    "\n",
    "import numpy as np\n",
    "import pandas as pd\n",
    "import matplotlib.pyplot as plt\n",
    "\n",
    "import torch\n",
    "from torch import Tensor, cat, stack\n",
    "\n",
    "from torch.utils.data import DataLoader, ConcatDataset"
   ]
  },
  {
   "cell_type": "code",
   "execution_count": null,
   "metadata": {},
   "outputs": [],
   "source": [
    "import os\n",
    "from os.path import join, dirname\n",
    "from dotenv import load_dotenv\n",
    "\n",
    "# Get paths\n",
    "load_dotenv('./.env')\n",
    "\n",
    "BEN_LMDB_PATH = os.environ.get(\"BEN_LMDB_PATH\")\n",
    "BEN_PATH = os.environ.get(\"BEN_PATH\")\n",
    "\n",
    "TRAIN_CSV_FILE = os.environ.get(\"TRAIN_CSV\")\n",
    "TEST_CSV_FILE = os.environ.get(\"TEST_CSV\")\n",
    "VAL_CSV_FILE = os.environ.get(\"VAL_CSV\")\n",
    "\n",
    "assert Path(BEN_PATH).exists()\n",
    "assert Path(BEN_LMDB_PATH).exists()\n",
    "assert os.path.exists(TRAIN_CSV_FILE)"
   ]
  },
  {
   "cell_type": "code",
   "execution_count": null,
   "metadata": {},
   "outputs": [],
   "source": [
    "env = lmdb.open(BEN_LMDB_PATH, readonly=True, readahead=False, lock=False)\n",
    "txn = env.begin()\n",
    "cur = txn.cursor()"
   ]
  },
  {
   "cell_type": "code",
   "execution_count": null,
   "metadata": {},
   "outputs": [],
   "source": [
    "import dataset_class as ds_class\n",
    "importlib.reload(ds_class)\n",
    "\n",
    "val_ds = ds_class.BenDataset(VAL_CSV_FILE, BEN_LMDB_PATH)\n",
    "test_ds = ds_class.BenDataset(TEST_CSV_FILE, BEN_LMDB_PATH)\n",
    "train_ds = ds_class.BenDataset(TRAIN_CSV_FILE, BEN_LMDB_PATH)\n",
    "\n",
    "ds = ConcatDataset([val_ds, test_ds, train_ds])\n",
    "ds_loader = DataLoader(ds, batch_size=1, shuffle=False)\n",
    "\n",
    "print(\"Dataset size:\", len(ds_loader))"
   ]
  },
  {
   "cell_type": "markdown",
   "metadata": {},
   "source": [
    "#### Plot class distribution"
   ]
  },
  {
   "cell_type": "code",
   "execution_count": null,
   "metadata": {},
   "outputs": [],
   "source": [
    "class_dist = torch.zeros([19], dtype=torch.uint8)\n",
    "print(class_dist)\n",
    "cnt = 0\n",
    "\n",
    "for _, y in ds_loader:\n",
    "    cnt += 1\n",
    "    \n",
    "    if cnt % 1000 == 0:\n",
    "        print(cnt)\n",
    "        print(class_dist)\n",
    "    \n",
    "    class_dist = torch.add(class_dist, y)\n",
    "    \n",
    "print(class_dist)\n",
    "# tensor([[   0, 7827,    2, 7840,    0, 4846,  447,  395, 1230,  363, 5378,    0,\n",
    "#           811,   12, 1713, 1703,  289, 5128, 2229]])"
   ]
  }
 ],
 "metadata": {
  "interpreter": {
   "hash": "b54b6ea0bc7318cd0ebe8744a480d71cf9140ba7cd7ca9d510192f235626c224"
  },
  "kernelspec": {
   "display_name": "Python 3.8.12 ('py38')",
   "language": "python",
   "name": "python3"
  },
  "language_info": {
   "codemirror_mode": {
    "name": "ipython",
    "version": 3
   },
   "file_extension": ".py",
   "mimetype": "text/x-python",
   "name": "python",
   "nbconvert_exporter": "python",
   "pygments_lexer": "ipython3",
   "version": "3.8.12"
  },
  "orig_nbformat": 4
 },
 "nbformat": 4,
 "nbformat_minor": 2
}
