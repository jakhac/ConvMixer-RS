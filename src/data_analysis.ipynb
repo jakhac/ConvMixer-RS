{
 "cells": [
  {
   "cell_type": "code",
   "execution_count": 1,
   "metadata": {},
   "outputs": [],
   "source": [
    "import lmdb\n",
    "from bigearthnet_patch_interface.s2_interface import BigEarthNet_S2_Patch\n",
    "from pathlib import Path\n",
    "import importlib\n",
    "\n",
    "import numpy as np\n",
    "import pandas as pd\n",
    "import matplotlib.pyplot as plt\n",
    "\n",
    "import torch\n",
    "from torch import Tensor, cat, stack\n",
    "\n",
    "from torch.utils.data import DataLoader, ConcatDataset"
   ]
  },
  {
   "cell_type": "code",
   "execution_count": 2,
   "metadata": {},
   "outputs": [],
   "source": [
    "import os\n",
    "from os.path import join, dirname\n",
    "from dotenv import load_dotenv\n",
    "\n",
    "# Get paths\n",
    "load_dotenv('./.env')\n",
    "\n",
    "BEN_LMDB_PATH = os.environ.get(\"BEN_LMDB_PATH\")\n",
    "BEN_PATH = os.environ.get(\"BEN_PATH\")\n",
    "\n",
    "TRAIN_CSV_FILE = os.environ.get(\"TRAIN_CSV\")\n",
    "TEST_CSV_FILE = os.environ.get(\"TEST_CSV\")\n",
    "VAL_CSV_FILE = os.environ.get(\"VAL_CSV\")\n",
    "\n",
    "assert Path(BEN_PATH).exists()\n",
    "assert Path(BEN_LMDB_PATH).exists()\n",
    "assert os.path.exists(TRAIN_CSV_FILE)"
   ]
  },
  {
   "cell_type": "code",
   "execution_count": 3,
   "metadata": {},
   "outputs": [],
   "source": [
    "env = lmdb.open(BEN_LMDB_PATH, readonly=True, readahead=False, lock=False)\n",
    "txn = env.begin()\n",
    "cur = txn.cursor()"
   ]
  },
  {
   "cell_type": "code",
   "execution_count": 12,
   "metadata": {},
   "outputs": [
    {
     "name": "stdout",
     "output_type": "stream",
     "text": [
      "Dataset size: 14714\n"
     ]
    }
   ],
   "source": [
    "import dataset_class as ds_class\n",
    "importlib.reload(ds_class)\n",
    "\n",
    "val_ds = ds_class.BenDataset(VAL_CSV_FILE, BEN_LMDB_PATH)\n",
    "test_ds = ds_class.BenDataset(TEST_CSV_FILE, BEN_LMDB_PATH)\n",
    "train_ds = ds_class.BenDataset(TRAIN_CSV_FILE, BEN_LMDB_PATH)\n",
    "\n",
    "ds = ConcatDataset([val_ds, test_ds, train_ds])\n",
    "ds_loader = DataLoader(ds, batch_size=1, shuffle=False)\n",
    "\n",
    "print(\"Dataset size:\", len(ds_loader))"
   ]
  },
  {
   "cell_type": "markdown",
   "metadata": {},
   "source": [
    "#### Plot class distribution"
   ]
  },
  {
   "cell_type": "code",
   "execution_count": 17,
   "metadata": {},
   "outputs": [
    {
     "name": "stdout",
     "output_type": "stream",
     "text": [
      "tensor([0, 0, 0, 0, 0, 0, 0, 0, 0, 0, 0, 0, 0, 0, 0, 0, 0, 0, 0],\n",
      "       dtype=torch.uint8)\n",
      "1000\n",
      "tensor([[  0, 944,   0, 173,   0, 180,   0,  49, 110,  52, 118,   0,   3,   0,\n",
      "           9,  96,  11, 166, 181]])\n",
      "2000\n",
      "tensor([[   0, 1265,    0,  829,    0,  524,   50,   74,  151,   63,  486,    0,\n",
      "          114,    0,  212,  248,   23,  619,  287]])\n",
      "3000\n",
      "tensor([[   0, 1849,    0, 1374,    0,  945,  102,   93,  233,   83, 1005,    0,\n",
      "          177,    2,  334,  352,   37, 1026,  496]])\n",
      "4000\n",
      "tensor([[   0, 2337,    0, 1959,    0, 1262,  116,  115,  326,  124, 1304,    0,\n",
      "          197,    2,  388,  485,   43, 1339,  609]])\n",
      "5000\n",
      "tensor([[   0, 3087,    0, 2239,    0, 1571,  124,  172,  426,  151, 1548,    0,\n",
      "          222,    2,  398,  569,   63, 1500,  802]])\n",
      "6000\n",
      "tensor([[   0, 3378,    0, 2951,    0, 1866,  203,  178,  486,  164, 1948,    0,\n",
      "          355,    5,  720,  709,   73, 2067,  891]])\n",
      "7000\n",
      "tensor([[   0, 3723,    0, 3721,    0, 2315,  218,  189,  544,  170, 2556,    0,\n",
      "          395,    5,  790,  799,   83, 2445, 1051]])\n",
      "8000\n",
      "tensor([[   0, 4617,    0, 4017,    0, 2510,  219,  228,  742,  261, 2660,    0,\n",
      "          396,    5,  805,  950,  113, 2725, 1217]])\n",
      "9000\n",
      "tensor([[   0, 5577,    0, 4137,    0, 2671,  219,  275,  844,  285, 2816,    0,\n",
      "          401,    5,  805,  989,  168, 2839, 1401]])\n",
      "10000\n",
      "tensor([[   0, 6131,    0, 4580,    0, 3087,  223,  313,  919,  313, 3185,    0,\n",
      "          421,    5,  826, 1095,  184, 3047, 1578]])\n",
      "11000\n",
      "tensor([[   0, 6531,    0, 5152,    0, 3356,  287,  346,  995,  333, 3453,    0,\n",
      "          525,    5, 1090, 1227,  246, 3489, 1688]])\n",
      "12000\n",
      "tensor([[   0, 6692,    0, 5926,    0, 3628,  384,  354, 1008,  341, 3838,    0,\n",
      "          710,   12, 1508, 1433,  251, 4189, 1757]])\n",
      "13000\n",
      "tensor([[   0, 7478,    2, 6364,    0, 4017,  415,  386, 1138,  361, 4337,    0,\n",
      "          758,   12, 1571, 1536,  265, 4472, 2027]])\n",
      "14000\n",
      "tensor([[   0, 7819,    2, 7154,    0, 4530,  440,  392, 1180,  363, 5008,    0,\n",
      "          796,   12, 1669, 1629,  287, 4863, 2194]])\n",
      "tensor([[   0, 7827,    2, 7840,    0, 4846,  447,  395, 1230,  363, 5378,    0,\n",
      "          811,   12, 1713, 1703,  289, 5128, 2229]])\n"
     ]
    }
   ],
   "source": [
    "# for X, y in [next(iter(ds_loader))]:\n",
    "    # print(X.shape)\n",
    "    # print(y.shape)\n",
    "\n",
    "# _, y = next(iter(ds_loader))\n",
    "\n",
    "class_dist = torch.zeros([19], dtype=torch.uint8)\n",
    "print(class_dist)\n",
    "cnt = 0\n",
    "\n",
    "for _, y in ds_loader:\n",
    "    cnt += 1\n",
    "    \n",
    "    if cnt % 1000 == 0:\n",
    "        print(cnt)\n",
    "        print(class_dist)\n",
    "    \n",
    "    class_dist = torch.add(class_dist, y)\n",
    "    \n",
    "print(class_dist)\n",
    "# tensor([[   0, 7827,    2, 7840,    0, 4846,  447,  395, 1230,  363, 5378,    0,\n",
    "#           811,   12, 1713, 1703,  289, 5128, 2229]])"
   ]
  }
 ],
 "metadata": {
  "interpreter": {
   "hash": "b54b6ea0bc7318cd0ebe8744a480d71cf9140ba7cd7ca9d510192f235626c224"
  },
  "kernelspec": {
   "display_name": "Python 3.8.12 ('py38')",
   "language": "python",
   "name": "python3"
  },
  "language_info": {
   "codemirror_mode": {
    "name": "ipython",
    "version": 3
   },
   "file_extension": ".py",
   "mimetype": "text/x-python",
   "name": "python",
   "nbconvert_exporter": "python",
   "pygments_lexer": "ipython3",
   "version": "3.8.12"
  },
  "orig_nbformat": 4
 },
 "nbformat": 4,
 "nbformat_minor": 2
}
